{
 "cells": [
  {
   "cell_type": "markdown",
   "metadata": {},
   "source": [
    "# Parking Garage Project\n",
    "\n",
    "Your assignment for today is to create a parking garage class to get more familiar with Object Oriented Programming(OOP). \n",
    "\n",
    "Your parking gargage class should have the following methods:\n",
    "- takeTicket\n",
    "   - This should decrease the amount of tickets available by 1\n",
    "   - This should decrease the amount of parkingSpaces available by 1\n",
    "- payForParking\n",
    "   - Display an input that waits for an amount from the user and store it in a variable\n",
    "   - If the payment variable is not empty then ->  display a message to the user that their ticket has been paid and they have 15mins to leave\n",
    "   - This should update the \"currentTicket\" dictionary key \"paid\" to True\n",
    "-leaveGarage\n",
    "   - If the ticket has been paid, display a message of \"Thank You, have a nice day\"\n",
    "   - If the ticket has not been paid, display an input prompt for payment\n",
    "      - Once paid, display message \"Thank you, have a nice day!\"\n",
    "   - Update parkingSpaces list to increase by 1\n",
    "   - Update tickets list to increase by 1\n",
    "\n",
    "You will need a few attributes as well:\n",
    "- tickets -> list\n",
    "- parkingSpaces -> list\n",
    "- currentTicket -> dictionary"
   ]
  },
  {
   "cell_type": "code",
   "execution_count": 30,
   "metadata": {},
   "outputs": [
    {
     "name": "stdout",
     "output_type": "stream",
     "text": [
      "What do you need? Avialeble/Price/Purchase/done add\n"
     ]
    },
    {
     "ename": "AttributeError",
     "evalue": "'tuple' object has no attribute 'addtickets'",
     "output_type": "error",
     "traceback": [
      "\u001b[0;31m---------------------------------------------------------------------------\u001b[0m",
      "\u001b[0;31mAttributeError\u001b[0m                            Traceback (most recent call last)",
      "\u001b[0;32m<ipython-input-30-b68dac75b1e9>\u001b[0m in \u001b[0;36m<module>\u001b[0;34m\u001b[0m\n\u001b[1;32m     51\u001b[0m \u001b[0;34m\u001b[0m\u001b[0m\n\u001b[1;32m     52\u001b[0m \u001b[0;34m\u001b[0m\u001b[0m\n\u001b[0;32m---> 53\u001b[0;31m \u001b[0mrun\u001b[0m\u001b[0;34m(\u001b[0m\u001b[0;34m)\u001b[0m\u001b[0;34m\u001b[0m\u001b[0;34m\u001b[0m\u001b[0m\n\u001b[0m",
      "\u001b[0;32m<ipython-input-30-b68dac75b1e9>\u001b[0m in \u001b[0;36mrun\u001b[0;34m()\u001b[0m\n\u001b[1;32m     43\u001b[0m             \u001b[0;32mbreak\u001b[0m\u001b[0;34m\u001b[0m\u001b[0;34m\u001b[0m\u001b[0m\n\u001b[1;32m     44\u001b[0m         \u001b[0;32melif\u001b[0m \u001b[0mresponse\u001b[0m \u001b[0;34m==\u001b[0m \u001b[0;34m'add'\u001b[0m\u001b[0;34m:\u001b[0m\u001b[0;34m\u001b[0m\u001b[0;34m\u001b[0m\u001b[0m\n\u001b[0;32m---> 45\u001b[0;31m             \u001b[0mspace_av\u001b[0m\u001b[0;34m.\u001b[0m\u001b[0maddtickets\u001b[0m\u001b[0;34m(\u001b[0m\u001b[0;34m)\u001b[0m\u001b[0;34m\u001b[0m\u001b[0;34m\u001b[0m\u001b[0m\n\u001b[0m\u001b[1;32m     46\u001b[0m \u001b[0;34m\u001b[0m\u001b[0m\n\u001b[1;32m     47\u001b[0m \u001b[0;34m\u001b[0m\u001b[0m\n",
      "\u001b[0;31mAttributeError\u001b[0m: 'tuple' object has no attribute 'addtickets'"
     ]
    }
   ],
   "source": [
    "# Your Code will go here\n",
    "\n",
    "class tickets():\n",
    "    lst = 15\n",
    "    \n",
    "    def __init__(self,spots,spaces,prices):\n",
    "        self.spots = spots\n",
    "        self.spaces = spaces\n",
    "        self.prices = prices\n",
    "\n",
    "    def addtickets(self):\n",
    "        tickets = input(\"How many tickets you need? \")\n",
    "        self.spots.append(tickets)\n",
    "\n",
    "    def showamount(self):\n",
    "        print(\"Here is your tickets: \")\n",
    "        for spots in self.spots:\n",
    "            print(spots)\n",
    "                \n",
    "    def avialableSpace(self):\n",
    "        print(\"Here are the spots that are avialable: \")\n",
    "        for avialableSpace in self.spaces:\n",
    "            print(aviableSpace)\n",
    "                \n",
    "    def price(self):\n",
    "        print(\"Cost per tickets: \")\n",
    "        for price in self.price:\n",
    "            print(price)\n",
    "            \n",
    "            \n",
    "def run():\n",
    "    space_av = ([],[\"There is 7 spots aviable\"],[\"The Cost per 15min is $5\"])\n",
    "    while True:\n",
    "        response = input(\"What do you need? Avialeble/Price/Purchase/done \")\n",
    "        if response.lower() == 'done':\n",
    "            print(\"Thank you for your purchase\")\n",
    "            break\n",
    "            response = input(\"Your payment\")\n",
    "        elif response <='4':\n",
    "            print(\"Wrong ammount, please try again!..\")\n",
    "        elif response =='5':\n",
    "            print(\"Thank you for your payment\")\n",
    "            break\n",
    "        elif response == 'add':\n",
    "            space_av.addtickets()\n",
    " \n",
    "            \n",
    "    \n",
    "                \n",
    "    \n",
    "\n",
    "    \n",
    "run()"
   ]
  },
  {
   "cell_type": "code",
   "execution_count": null,
   "metadata": {},
   "outputs": [],
   "source": []
  }
 ],
 "metadata": {
  "kernelspec": {
   "display_name": "Python 3",
   "language": "python",
   "name": "python3"
  },
  "language_info": {
   "codemirror_mode": {
    "name": "ipython",
    "version": 3
   },
   "file_extension": ".py",
   "mimetype": "text/x-python",
   "name": "python",
   "nbconvert_exporter": "python",
   "pygments_lexer": "ipython3",
   "version": "3.7.4"
  }
 },
 "nbformat": 4,
 "nbformat_minor": 2
}
